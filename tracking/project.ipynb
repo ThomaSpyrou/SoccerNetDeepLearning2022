{
 "cells": [
  {
   "cell_type": "markdown",
   "source": [
    "### SoccerNet Object Tracking\n",
    "#### 02456 Deep learning 2022"
   ],
   "metadata": {
    "collapsed": false
   }
  },
  {
   "cell_type": "code",
   "execution_count": 16,
   "outputs": [],
   "source": [
    "import numpy as np\n",
    "import torch\n",
    "import torch.nn as nn\n",
    "import matplotlib.pyplot as plt\n",
    "import os\n",
    "import time\n",
    "import yaml\n",
    "import re\n",
    "import pandas as pd\n",
    "import seaborn as sn\n",
    "from IPython.display import Video\n",
    "from glob import glob\n",
    "from io import TextIOWrapper\n",
    "import collections\n",
    "import zipfile\n",
    "import csv\n",
    "import cv2"
   ],
   "metadata": {
    "collapsed": false
   }
  },
  {
   "cell_type": "code",
   "execution_count": null,
   "outputs": [],
   "source": [
    "def get_np_array_from_tar_object(tar_extractfl):\n",
    "     '''converts a buffer from a tar file in np.array'''\n",
    "     return np.asarray(bytearray(tar_extractfl.read()), dtype=np.uint8)"
   ],
   "metadata": {
    "collapsed": false
   }
  },
  {
   "cell_type": "code",
   "execution_count": null,
   "outputs": [],
   "source": [
    "def collect(fn):\n",
    "    archive = zipfile.ZipFile(fn, 'r')\n",
    "    annotated_images = []\n",
    "\n",
    "    annotation_files = []\n",
    "    for f in archive.namelist():\n",
    "        if \"det/det.txt\" in f:\n",
    "            annotation_files.append(f)\n",
    "\n",
    "    image_annotations = collections.defaultdict(list)\n",
    "\n",
    "    for af in annotation_files:\n",
    "        st, sample,_,__ = af.split(\"/\")\n",
    "        imgpath = \"%s/%s/img1/%06d.jpg\"\n",
    "        for row in csv.reader(TextIOWrapper(archive.open(af), 'utf-8') ):\n",
    "            frame, _, x, y, w, h = [int(x) for x in row[:6]]\n",
    "            ifn = imgpath%(st,sample, frame)\n",
    "            image_annotations[ifn].append((x,y,w,h))\n",
    "\n",
    "    for k in image_annotations.keys():\n",
    "        img = cv2.imdecode(get_np_array_from_tar_object(archive.open(k)), 1 )\n",
    "        for box in image_annotations[k]:\n",
    "            x,y,w,h = box\n",
    "            cv2.rectangle(img,(x,y),(x+w,y+h),(0,255,0), 2)\n",
    "\n",
    "        img = cv2.resize(img, (0,0), fx=0.75, fy=0.75)\n",
    "        cv2.imshow('image',img)\n",
    "        cv2.waitKey(100)"
   ],
   "metadata": {
    "collapsed": false
   }
  },
  {
   "cell_type": "code",
   "execution_count": null,
   "outputs": [],
   "source": [
    "train = collect(\"../datasets/data/tracking/train.zip\")\n",
    "cv2.destroyAllWindows()"
   ],
   "metadata": {
    "collapsed": false
   }
  },
  {
   "cell_type": "code",
   "execution_count": 3,
   "outputs": [],
   "source": [
    "# ４ types of labels are used.\n",
    "labels = ['ball', 'player', 'referee', 'goalkeeper']\n",
    "label_dict = {'ball': 0, 'player': 1, 'referee': 2, 'goalkeeper': 3, 'goalkeepers': 3}"
   ],
   "metadata": {
    "collapsed": false
   }
  },
  {
   "cell_type": "code",
   "execution_count": 11,
   "outputs": [],
   "source": [
    "train_dirs = sorted(glob('/home/tspy/workspace/DTU/deepLearning/finalAss/SoccerNetDeepLearning2022/datasets/data/tracking/train/SNMOT*'))\n",
    "valid_dirs = train_dirs[50:]\n",
    "train_dirs = train_dirs[:50]\n",
    "\n",
    "debug=True\n",
    "if debug:\n",
    "    train_dirs = train_dirs[:5]\n",
    "    valid_dirs = valid_dirs[:5]\n",
    "\n",
    "split_dirs = {\n",
    "    'train':train_dirs,\n",
    "    'valid':valid_dirs\n",
    "}"
   ],
   "metadata": {
    "collapsed": false
   }
  },
  {
   "cell_type": "code",
   "execution_count": 12,
   "outputs": [],
   "source": [
    "#(1) image file path\n",
    "yolo_train_img_dir = '/home/tspy/workspace/DTU/deepLearning/finalAss/SoccerNetDeepLearning2022/yolov7/images/train'\n",
    "yolo_valid_img_dir = '/home/tspy/workspace/DTU/deepLearning/finalAss/SoccerNetDeepLearning2022/yolov7/images/valid'\n",
    "\n",
    "#(2) label file path\n",
    "yolo_train_label_dir = '/home/tspy/workspace/DTU/deepLearning/finalAss/SoccerNetDeepLearning2022/yolov7/labels/train'\n",
    "yolo_valid_label_dir = '/home/tspy/workspace/DTU/deepLearning/finalAss/SoccerNetDeepLearning2022/yolov7/labels/valid'\n",
    "\n",
    "#(3) config file path\n",
    "yaml_file = '/home/tspy/workspace/DTU/deepLearning/finalAss/SoccerNetDeepLearning2022/yolov7/data.yaml'\n",
    "\n",
    "os.makedirs(yolo_train_img_dir, exist_ok=True)\n",
    "os.makedirs(yolo_valid_img_dir, exist_ok=True)\n",
    "os.makedirs(yolo_train_label_dir, exist_ok=True)\n",
    "os.makedirs(yolo_valid_label_dir, exist_ok=True)"
   ],
   "metadata": {
    "collapsed": false
   }
  },
  {
   "cell_type": "code",
   "execution_count": 14,
   "outputs": [
    {
     "name": "stdout",
     "output_type": "stream",
     "text": [
      "this_dir: /home/tspy/workspace/DTU/deepLearning/finalAss/SoccerNetDeepLearning2022/datasets/data/tracking/train/SNMOT-060\n",
      "this_dir: /home/tspy/workspace/DTU/deepLearning/finalAss/SoccerNetDeepLearning2022/datasets/data/tracking/train/SNMOT-061\n",
      "this_dir: /home/tspy/workspace/DTU/deepLearning/finalAss/SoccerNetDeepLearning2022/datasets/data/tracking/train/SNMOT-062\n",
      "this_dir: /home/tspy/workspace/DTU/deepLearning/finalAss/SoccerNetDeepLearning2022/datasets/data/tracking/train/SNMOT-063\n",
      "this_dir: /home/tspy/workspace/DTU/deepLearning/finalAss/SoccerNetDeepLearning2022/datasets/data/tracking/train/SNMOT-064\n",
      "this_dir: /home/tspy/workspace/DTU/deepLearning/finalAss/SoccerNetDeepLearning2022/datasets/data/tracking/train/SNMOT-164\n",
      "this_dir: /home/tspy/workspace/DTU/deepLearning/finalAss/SoccerNetDeepLearning2022/datasets/data/tracking/train/SNMOT-165\n",
      "this_dir: /home/tspy/workspace/DTU/deepLearning/finalAss/SoccerNetDeepLearning2022/datasets/data/tracking/train/SNMOT-166\n",
      "this_dir: /home/tspy/workspace/DTU/deepLearning/finalAss/SoccerNetDeepLearning2022/datasets/data/tracking/train/SNMOT-167\n",
      "this_dir: /home/tspy/workspace/DTU/deepLearning/finalAss/SoccerNetDeepLearning2022/datasets/data/tracking/train/SNMOT-168\n"
     ]
    }
   ],
   "source": [
    "# convert from x,y,w,h to yolo format\n",
    "def get_yolo_format_bbox(img_w, img_h, box):\n",
    "    w = box[2]\n",
    "    h = box[3]\n",
    "    xc = box[0] + int(np.round(w/2))\n",
    "    yc = box[1] + int(np.round(h/2))\n",
    "    box = [xc/img_w, yc/img_h, w/img_w, h/img_h]\n",
    "    box = [f\"{i:.4g}\" for i in box]\n",
    "    return box\n",
    "\n",
    "# get SoccerNet label info\n",
    "def get_info(info):\n",
    "    results = []\n",
    "    for line in open(info):\n",
    "        m = re.match('trackletID_(\\d+)= (\\S*).*', line.replace(';', ' '))\n",
    "        if m:\n",
    "            if m.group(2) not in label_dict:\n",
    "                #print('bad label:', m.group(2))\n",
    "                continue\n",
    "            results.append([m.group(1), m.group(2)])\n",
    "    return pd.DataFrame(results, columns=['id','lbl']).set_index('id').to_dict()['lbl']\n",
    "\n",
    "# make image simlink and label files\n",
    "for split in split_dirs:\n",
    "    if split == 'train':\n",
    "        yolo_img_dir = yolo_train_img_dir\n",
    "        yolo_label_dir = yolo_train_label_dir\n",
    "    else:\n",
    "        yolo_img_dir = yolo_valid_img_dir\n",
    "        yolo_label_dir = yolo_valid_label_dir\n",
    "\n",
    "    for this_dir in split_dirs[split]:\n",
    "        print('this_dir:',this_dir)\n",
    "        video = this_dir.split('/')[-1]\n",
    "        info = this_dir + '/gameinfo.ini'\n",
    "        det = this_dir + '/gt/gt.txt'\n",
    "        info_dict = get_info(info)\n",
    "        det_df = pd.read_csv(det, names=['frame','player','x','y','w','h','f1','f2','f3','f4'], usecols=['frame','player','x','y','w','h'])\n",
    "        det_df['label'] = det_df.player.astype(str).map(info_dict)\n",
    "        det_df['label_id'] = det_df['label'].map(label_dict)\n",
    "        # check\n",
    "        ng_list = list(det_df[det_df.label_id.isnull()].label.unique())\n",
    "        if len(ng_list)>0:\n",
    "            #print('ng_list:',ng_list, det_df.dropna().shape, det_df.shape)\n",
    "            det_df = det_df.dropna()\n",
    "        for grp, grp_df in det_df.groupby('frame'):\n",
    "            frame = f'{grp:06}'\n",
    "            img_file = f'{this_dir}/img1/{frame}.jpg'\n",
    "            dst_file = f'{yolo_img_dir}/{video}_{frame}.jpg'\n",
    "            if not os.path.exists(dst_file):\n",
    "                os.symlink(img_file, dst_file)\n",
    "                #print(img_file)\n",
    "            img = cv2.imread(dst_file)\n",
    "            height, width, _ = img.shape\n",
    "            bboxes = []\n",
    "            for arr in grp_df[['x', 'y', 'w', 'h', 'label_id']].values:\n",
    "                box = get_yolo_format_bbox(width, height, arr[:4])\n",
    "                bboxes.append([arr[4]]+box)\n",
    "            file_name = f'{yolo_label_dir}/{video}_{frame}.txt'\n",
    "            with open(file_name, 'w') as f:\n",
    "                for i, bbox in enumerate(bboxes):\n",
    "                    bbox = [str(i) for i in bbox]\n",
    "                    str_bbox = ' '.join(bbox)\n",
    "                    f.write(str_bbox)\n",
    "                    f.write('\\n')"
   ],
   "metadata": {
    "collapsed": false
   }
  },
  {
   "cell_type": "code",
   "execution_count": 17,
   "outputs": [],
   "source": [
    "# Dump config file\n",
    "data_yaml = dict(\n",
    "    train = yolo_train_img_dir,\n",
    "    val = yolo_valid_img_dir,\n",
    "    nc = 4,\n",
    "    names = labels\n",
    ")\n",
    "\n",
    "with open(yaml_file, 'w') as outfile:\n",
    "    yaml.dump(data_yaml, outfile, default_flow_style=True)"
   ],
   "metadata": {
    "collapsed": false
   }
  },
  {
   "cell_type": "code",
   "execution_count": 19,
   "outputs": [],
   "source": [
    "torch.cuda.empty_cache()"
   ],
   "metadata": {
    "collapsed": false
   }
  },
  {
   "cell_type": "code",
   "execution_count": 20,
   "outputs": [
    {
     "data": {
      "text/plain": "'|===========================================================================|\\n|                  PyTorch CUDA memory summary, device ID 0                 |\\n|---------------------------------------------------------------------------|\\n|            CUDA OOMs: 0            |        cudaMalloc retries: 0         |\\n|===========================================================================|\\n|        Metric         | Cur Usage  | Peak Usage | Tot Alloc  | Tot Freed  |\\n|---------------------------------------------------------------------------|\\n| Allocated memory      |       0 B  |       0 B  |       0 B  |       0 B  |\\n|       from large pool |       0 B  |       0 B  |       0 B  |       0 B  |\\n|       from small pool |       0 B  |       0 B  |       0 B  |       0 B  |\\n|---------------------------------------------------------------------------|\\n| Active memory         |       0 B  |       0 B  |       0 B  |       0 B  |\\n|       from large pool |       0 B  |       0 B  |       0 B  |       0 B  |\\n|       from small pool |       0 B  |       0 B  |       0 B  |       0 B  |\\n|---------------------------------------------------------------------------|\\n| GPU reserved memory   |       0 B  |       0 B  |       0 B  |       0 B  |\\n|       from large pool |       0 B  |       0 B  |       0 B  |       0 B  |\\n|       from small pool |       0 B  |       0 B  |       0 B  |       0 B  |\\n|---------------------------------------------------------------------------|\\n| Non-releasable memory |       0 B  |       0 B  |       0 B  |       0 B  |\\n|       from large pool |       0 B  |       0 B  |       0 B  |       0 B  |\\n|       from small pool |       0 B  |       0 B  |       0 B  |       0 B  |\\n|---------------------------------------------------------------------------|\\n| Allocations           |       0    |       0    |       0    |       0    |\\n|       from large pool |       0    |       0    |       0    |       0    |\\n|       from small pool |       0    |       0    |       0    |       0    |\\n|---------------------------------------------------------------------------|\\n| Active allocs         |       0    |       0    |       0    |       0    |\\n|       from large pool |       0    |       0    |       0    |       0    |\\n|       from small pool |       0    |       0    |       0    |       0    |\\n|---------------------------------------------------------------------------|\\n| GPU reserved segments |       0    |       0    |       0    |       0    |\\n|       from large pool |       0    |       0    |       0    |       0    |\\n|       from small pool |       0    |       0    |       0    |       0    |\\n|---------------------------------------------------------------------------|\\n| Non-releasable allocs |       0    |       0    |       0    |       0    |\\n|       from large pool |       0    |       0    |       0    |       0    |\\n|       from small pool |       0    |       0    |       0    |       0    |\\n|---------------------------------------------------------------------------|\\n| Oversize allocations  |       0    |       0    |       0    |       0    |\\n|---------------------------------------------------------------------------|\\n| Oversize GPU segments |       0    |       0    |       0    |       0    |\\n|===========================================================================|\\n'"
     },
     "execution_count": 20,
     "metadata": {},
     "output_type": "execute_result"
    }
   ],
   "source": [
    "torch.cuda.memory_summary(device=None, abbreviated=False)"
   ],
   "metadata": {
    "collapsed": false
   }
  },
  {
   "cell_type": "code",
   "execution_count": null,
   "outputs": [],
   "source": [],
   "metadata": {
    "collapsed": false
   }
  }
 ],
 "metadata": {
  "kernelspec": {
   "display_name": "Python 3",
   "language": "python",
   "name": "python3"
  },
  "language_info": {
   "codemirror_mode": {
    "name": "ipython",
    "version": 2
   },
   "file_extension": ".py",
   "mimetype": "text/x-python",
   "name": "python",
   "nbconvert_exporter": "python",
   "pygments_lexer": "ipython2",
   "version": "2.7.6"
  }
 },
 "nbformat": 4,
 "nbformat_minor": 0
}
