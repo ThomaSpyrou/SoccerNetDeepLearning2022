{
 "cells": [
  {
   "cell_type": "markdown",
   "source": [
    "### SoccerNet Object Tracking\n",
    "#### 02456 Deep learning 2022\n",
    "\n",
    "Training of YOLOv7"
   ],
   "metadata": {
    "collapsed": false
   }
  },
  {
   "cell_type": "code",
   "execution_count": null,
   "outputs": [],
   "source": [
    "import numpy as np\n",
    "import torch\n",
    "import torch.nn as nn\n",
    "import matplotlib.pyplot as plt\n",
    "import os\n",
    "import time\n",
    "import yaml\n",
    "import re\n",
    "import pandas as pd\n",
    "import seaborn as sn\n",
    "from IPython.display import Video\n",
    "from glob import glob\n",
    "from io import TextIOWrapper\n",
    "import collections\n",
    "import zipfile\n",
    "import csv\n",
    "import cv2\n",
    "from SoccerNet.Downloader import SoccerNetDownloader\n",
    "from SoccerNet.utils import getListGames"
   ],
   "metadata": {
    "collapsed": false
   }
  },
  {
   "cell_type": "code",
   "execution_count": null,
   "outputs": [],
   "source": [
    "# download data and unzip them might take a while\n",
    "mySoccerNetDownloader = SoccerNetDownloader(LocalDirectory=\"./data\")\n",
    "mySoccerNetDownloader.downloadDataTask(task=\"tracking\", split=[\"train\", \"test\", \"challenge\"])"
   ],
   "metadata": {
    "collapsed": false
   }
  },
  {
   "cell_type": "code",
   "execution_count": null,
   "outputs": [],
   "source": [
    "# clone the repo and download pre-trained weights\n",
    "!git clone https://github.com/WongKinYiu/yolov7\n",
    "!wget https://github.com/WongKinYiu/yolov7/releases/download/v0.1/yolov7-w6_training.pt"
   ],
   "metadata": {
    "collapsed": false
   }
  },
  {
   "cell_type": "code",
   "execution_count": null,
   "outputs": [],
   "source": [
    "def get_np_array_from_tar_object(tar_extractfl):\n",
    "     '''converts a buffer from a tar file in np.array'''\n",
    "     return np.asarray(bytearray(tar_extractfl.read()), dtype=np.uint8)"
   ],
   "metadata": {
    "collapsed": false
   }
  },
  {
   "cell_type": "code",
   "execution_count": null,
   "outputs": [],
   "source": [
    "def collect(fn):\n",
    "    archive = zipfile.ZipFile(fn, 'r')\n",
    "    annotated_images = []\n",
    "\n",
    "    annotation_files = []\n",
    "    for f in archive.namelist():\n",
    "        if \"det/det.txt\" in f:\n",
    "            annotation_files.append(f)\n",
    "\n",
    "    image_annotations = collections.defaultdict(list)\n",
    "\n",
    "    for af in annotation_files:\n",
    "        st, sample,_,__ = af.split(\"/\")\n",
    "        imgpath = \"%s/%s/img1/%06d.jpg\"\n",
    "        for row in csv.reader(TextIOWrapper(archive.open(af), 'utf-8') ):\n",
    "            frame, _, x, y, w, h = [int(x) for x in row[:6]]\n",
    "            ifn = imgpath%(st,sample, frame)\n",
    "            image_annotations[ifn].append((x,y,w,h))\n",
    "\n",
    "    for k in image_annotations.keys():\n",
    "        img = cv2.imdecode(get_np_array_from_tar_object(archive.open(k)), 1 )\n",
    "        for box in image_annotations[k]:\n",
    "            x,y,w,h = box\n",
    "            cv2.rectangle(img,(x,y),(x+w,y+h),(0,255,0), 2)\n",
    "\n",
    "        img = cv2.resize(img, (0,0), fx=0.75, fy=0.75)\n",
    "        cv2.imshow('image',img)\n",
    "        cv2.waitKey(100)"
   ],
   "metadata": {
    "collapsed": false
   }
  },
  {
   "cell_type": "code",
   "execution_count": null,
   "outputs": [],
   "source": [
    "train = collect(\"./data/tracking/train.zip\")\n",
    "cv2.destroyAllWindows()"
   ],
   "metadata": {
    "collapsed": false
   }
  },
  {
   "cell_type": "code",
   "execution_count": null,
   "outputs": [],
   "source": [
    "current_dir = os.getcwd()"
   ],
   "metadata": {
    "collapsed": false
   }
  },
  {
   "cell_type": "code",
   "execution_count": null,
   "outputs": [],
   "source": [
    "# ４ types of labels are used.\n",
    "labels = ['ball', 'player', 'referee', 'goalkeeper']\n",
    "label_dict = {'ball': 0, 'player': 1, 'referee': 2, 'goalkeeper': 3, 'goalkeepers': 3}"
   ],
   "metadata": {
    "collapsed": false
   }
  },
  {
   "cell_type": "code",
   "execution_count": null,
   "outputs": [],
   "source": [
    "# change the directory\n",
    "train_dirs = sorted(glob(current_dir + '/data/tracking/train/SNMOT*'))\n",
    "valid_dirs = train_dirs[50:]\n",
    "train_dirs = train_dirs[:50]\n",
    "\n",
    "debug=True\n",
    "if debug:\n",
    "    train_dirs = train_dirs[:10]\n",
    "    valid_dirs = valid_dirs[:10]\n",
    "\n",
    "\n",
    "split_dirs = {\n",
    "    'train':train_dirs,\n",
    "    'valid':valid_dirs\n",
    "\n",
    "}"
   ],
   "metadata": {
    "collapsed": false
   }
  },
  {
   "cell_type": "code",
   "execution_count": null,
   "outputs": [],
   "source": [
    "split_dirs"
   ],
   "metadata": {
    "collapsed": false
   }
  },
  {
   "cell_type": "code",
   "execution_count": null,
   "outputs": [],
   "source": [
    "#(1) image file path\n",
    "# change directories\n",
    "yolo_train_img_dir = current_dir + '/yolov7/images/train'\n",
    "yolo_valid_img_dir = current_dir + '/yolov7/images/valid'\n",
    "\n",
    "#(2) label file path\n",
    "yolo_train_label_dir = current_dir + '/yolov7/labels/train'\n",
    "yolo_valid_label_dir = current_dir + '/yolov7/labels/valid'\n",
    "\n",
    "#(3) config file path\n",
    "yaml_file = current_dir + '/yolov7/data.yaml'\n",
    "\n",
    "os.makedirs(yolo_train_img_dir, exist_ok=True)\n",
    "os.makedirs(yolo_valid_img_dir, exist_ok=True)\n",
    "os.makedirs(yolo_train_label_dir, exist_ok=True)\n",
    "os.makedirs(yolo_valid_label_dir, exist_ok=True)"
   ],
   "metadata": {
    "collapsed": false
   }
  },
  {
   "cell_type": "code",
   "execution_count": null,
   "outputs": [],
   "source": [
    "# convert from x,y,w,h to yolo format\n",
    "def get_yolo_format_bbox(img_w, img_h, box):\n",
    "    w = box[2]\n",
    "    h = box[3]\n",
    "    xc = box[0] + int(np.round(w/2))\n",
    "    yc = box[1] + int(np.round(h/2))\n",
    "    box = [xc/img_w, yc/img_h, w/img_w, h/img_h]\n",
    "    box = [f\"{i:.4g}\" for i in box]\n",
    "    return box\n",
    "\n",
    "# get SoccerNet label info\n",
    "def get_info(info):\n",
    "    results = []\n",
    "    for line in open(info):\n",
    "        m = re.match('trackletID_(\\d+)= (\\S*).*', line.replace(';', ' '))\n",
    "        if m:\n",
    "            if m.group(2) not in label_dict:\n",
    "                #print('bad label:', m.group(2))\n",
    "                continue\n",
    "            results.append([m.group(1), m.group(2)])\n",
    "    return pd.DataFrame(results, columns=['id','lbl']).set_index('id').to_dict()['lbl']\n",
    "\n",
    "# make image simlink and label files\n",
    "for split in split_dirs:\n",
    "    if split == 'train':\n",
    "        yolo_img_dir = yolo_train_img_dir\n",
    "        yolo_label_dir = yolo_train_label_dir\n",
    "    else:\n",
    "        yolo_img_dir = yolo_valid_img_dir\n",
    "        yolo_label_dir = yolo_valid_label_dir\n",
    "\n",
    "    for this_dir in split_dirs[split]:\n",
    "        video = this_dir.split('/')[-1]\n",
    "        info = this_dir + '/gameinfo.ini'\n",
    "        det = this_dir + '/gt/gt.txt'\n",
    "        info_dict = get_info(info)\n",
    "        det_df = pd.read_csv(det, names=['frame','player','x','y','w','h','f1','f2','f3','f4'], usecols=['frame','player','x','y','w','h'])\n",
    "        det_df['label'] = det_df.player.astype(str).map(info_dict)\n",
    "        det_df['label_id'] = det_df['label'].map(label_dict)\n",
    "        # check\n",
    "        ng_list = list(det_df[det_df.label_id.isnull()].label.unique())\n",
    "        if len(ng_list)>0:\n",
    "            #print('ng_list:',ng_list, det_df.dropna().shape, det_df.shape)\n",
    "            det_df = det_df.dropna()\n",
    "        for grp, grp_df in det_df.groupby('frame'):\n",
    "            frame = f'{grp:06}'\n",
    "            img_file = f'{this_dir}/img1/{frame}.jpg'\n",
    "            dst_file = f'{yolo_img_dir}/{video}_{frame}.jpg'\n",
    "            if not os.path.exists(dst_file):\n",
    "                os.symlink(img_file, dst_file)\n",
    "            img = cv2.imread(dst_file)\n",
    "            height, width, _ = img.shape\n",
    "            bboxes = []\n",
    "            for arr in grp_df[['x', 'y', 'w', 'h', 'label_id']].values:\n",
    "                box = get_yolo_format_bbox(width, height, arr[:4])\n",
    "                bboxes.append([arr[4]]+box)\n",
    "            file_name = f'{yolo_label_dir}/{video}_{frame}.txt'\n",
    "            with open(file_name, 'w') as f:\n",
    "                for i, bbox in enumerate(bboxes):\n",
    "                    bbox = [str(i) for i in bbox]\n",
    "                    str_bbox = ' '.join(bbox)\n",
    "                    f.write(str_bbox)\n",
    "                    f.write('\\n')"
   ],
   "metadata": {
    "collapsed": false
   }
  },
  {
   "cell_type": "code",
   "execution_count": null,
   "outputs": [],
   "source": [
    "# Dump config file\n",
    "data_yaml = dict(\n",
    "    train = yolo_train_img_dir,\n",
    "    val = yolo_valid_img_dir,\n",
    "    nc = 4,\n",
    "    names = labels\n",
    ")\n",
    "\n",
    "with open(yaml_file, 'w') as outfile:\n",
    "    yaml.dump(data_yaml, outfile, default_flow_style=True)"
   ],
   "metadata": {
    "collapsed": false
   }
  },
  {
   "cell_type": "markdown",
   "source": [
    "Move to the parent directory in yolo7 folder and use the cmd:\n",
    "\n",
    "`time python3 train_aux.py     --workers 6     --batch-size 10     --data data.yaml     --img 640     --epochs 20     --cfg cfg/training/yolov7-w6.yaml     --weights yolov7-w6_training.pt --device cpu    --name yolov7-w6-custom     --hyp data/hyp.scratch.custom.yaml`\n",
    "\n",
    "Choose the batch size, number of epochs etc.\n"
   ],
   "metadata": {
    "collapsed": false
   }
  },
  {
   "cell_type": "code",
   "execution_count": null,
   "outputs": [],
   "source": [
    "# deploy in the localhost:8080 a monitor board that can load every run\n",
    "%load_ext tensorboard\n",
    "%tensorboard --logdir \"directory of yolo7/runs\" --host localhost --port 8080"
   ],
   "metadata": {
    "collapsed": false
   }
  }
 ],
 "metadata": {
  "kernelspec": {
   "display_name": "Python 3",
   "language": "python",
   "name": "python3"
  },
  "language_info": {
   "codemirror_mode": {
    "name": "ipython",
    "version": 2
   },
   "file_extension": ".py",
   "mimetype": "text/x-python",
   "name": "python",
   "nbconvert_exporter": "python",
   "pygments_lexer": "ipython2",
   "version": "2.7.6"
  }
 },
 "nbformat": 4,
 "nbformat_minor": 0
}
