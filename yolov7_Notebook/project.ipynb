{
 "cells": [
  {
   "cell_type": "markdown",
   "metadata": {},
   "source": [
    "### SoccerNet Object Tracking\n",
    "#### 02456 Deep learning 2022"
   ]
  },
  {
   "cell_type": "code",
   "execution_count": 1,
   "metadata": {},
   "outputs": [],
   "source": [
    "import numpy as np\n",
    "import pandas as pd\n",
    "import matplotlib.pyplot as plt\n",
    "import torch\n",
    "import torch.nn as nn\n",
    "import os\n",
    "import time\n",
    "import yaml\n",
    "import re\n",
    "import seaborn as sn\n",
    "from IPython.display import Video, Image\n",
    "from glob import glob\n",
    "from io import TextIOWrapper\n",
    "import collections\n",
    "import zipfile\n",
    "import csv\n",
    "import cv2"
   ]
  },
  {
   "cell_type": "markdown",
   "metadata": {},
   "source": [
    "##### Data downloader"
   ]
  },
  {
   "cell_type": "code",
   "execution_count": 2,
   "metadata": {},
   "outputs": [],
   "source": [
    "# import SoccerNet\n",
    "# from SoccerNet.Downloader import SoccerNetDownloader\n",
    "# mySoccerNetDownloader=SoccerNetDownloader(LocalDirectory=\"path/to/SoccerNet\")\n",
    "# mySoccerNetDownloader.downloadDataTask(task=\"tracking\", split=[\"train\", \"test\", \"challenge\"])"
   ]
  },
  {
   "cell_type": "markdown",
   "metadata": {},
   "source": [
    "##### Function to visualize boxes"
   ]
  },
  {
   "cell_type": "code",
   "execution_count": 3,
   "metadata": {},
   "outputs": [],
   "source": [
    "def get_np_array_from_tar_object(tar_extractfl):\n",
    "     '''converts a buffer from a tar file in np.array'''\n",
    "     return np.asarray(bytearray(tar_extractfl.read()), dtype=np.uint8)\n",
    "\n",
    "def collect(fn):\n",
    "    archive = zipfile.ZipFile(fn, 'r')\n",
    "    annotated_images = []\n",
    "\n",
    "    annotation_files = []\n",
    "    for f in archive.namelist():\n",
    "        if \"det/det.txt\" in f:\n",
    "            annotation_files.append(f)\n",
    "\n",
    "    image_annotations = collections.defaultdict(list)\n",
    "\n",
    "    for af in annotation_files:\n",
    "        st, sample,_,__ = af.split(\"/\")\n",
    "        imgpath = \"%s/%s/img1/%06d.jpg\"\n",
    "        for row in csv.reader(TextIOWrapper(archive.open(af), 'utf-8') ):\n",
    "            frame, _, x, y, w, h = [int(x) for x in row[:6]]\n",
    "            ifn = imgpath%(st,sample, frame)\n",
    "            image_annotations[ifn].append((x,y,w,h))\n",
    "\n",
    "    for k in image_annotations.keys():\n",
    "        img = cv2.imdecode(get_np_array_from_tar_object(archive.open(k)), 1 )\n",
    "        for box in image_annotations[k]:\n",
    "            x,y,w,h = box\n",
    "            cv2.rectangle(img,(x,y),(x+w,y+h),(0,255,0), 2)\n",
    "\n",
    "        img = cv2.resize(img, (0,0), fx=0.75, fy=0.75)\n",
    "        cv2.imshow('image',img)\n",
    "        cv2.waitKey(100)"
   ]
  },
  {
   "cell_type": "code",
   "execution_count": 4,
   "metadata": {},
   "outputs": [],
   "source": [
    "# # Visualize\n",
    "# train = collect(\"path/to/SoccerNet/tracking/train.zip\")\n",
    "# cv2.destroyAllWindows()"
   ]
  },
  {
   "cell_type": "markdown",
   "metadata": {},
   "source": [
    "##### Test YOLOv7 with SoccerNet"
   ]
  },
  {
   "cell_type": "code",
   "execution_count": 2,
   "metadata": {},
   "outputs": [],
   "source": [
    "yolo_base = 'yolov7'\n",
    "sn_track_base = 'path/to/SoccerNet/tracking'\n",
    "\n",
    "# ４ types of labels are used.\n",
    "labels = ['ball', 'player', 'referee', 'goalkeepers']\n",
    "label_dict = {'ball': 0, 'player': 1, 'referee': 2, 'goalkeeper': 3, 'goalkeepers': 3}"
   ]
  },
  {
   "cell_type": "code",
   "execution_count": null,
   "metadata": {},
   "outputs": [],
   "source": []
  },
  {
   "cell_type": "code",
   "execution_count": null,
   "metadata": {},
   "outputs": [],
   "source": []
  },
  {
   "cell_type": "code",
   "execution_count": 7,
   "metadata": {},
   "outputs": [],
   "source": [
    "# Of the 57 half , 50 are used for training and 7 for validation.\n",
    "#trn_dirs = sorted(glob(f'{sn_track_base}/train/SNMOT*'))\n",
    "#tst_dirs = sorted(glob(f'{sn_track_base}/test/SNMOT*'))\n",
    "trn_dirs = [\"C:/Users/Administrator/Desktop/SNMOT-060\"]\n",
    "tst_dirs = [\"C:/Users/Administrator/Desktop/SNMOT-116\"]\n",
    "\n",
    "split_dirs = {\n",
    "    'train':trn_dirs,\n",
    "    'valid':tst_dirs\n",
    "}\n",
    "\n",
    "# ４ types of labels are used.\n",
    "labels = ['ball', 'player', 'referee', 'goalkeepers']\n",
    "label_dict = {'ball': 0, 'player': 1, 'referee': 2, 'goalkeeper': 3, 'goalkeepers': 3}"
   ]
  },
  {
   "cell_type": "code",
   "execution_count": 8,
   "metadata": {},
   "outputs": [],
   "source": [
    "#(1) image file path\n",
    "yolo_train_img_dir = f'{yolo_base}/images/train'\n",
    "yolo_valid_img_dir = f'{yolo_base}/images/valid'\n",
    "\n",
    "#(2) label file path\n",
    "yolo_train_label_dir = f'{yolo_base}/labels/train'\n",
    "yolo_valid_label_dir = f'{yolo_base}/labels/valid'\n",
    "\n",
    "#(3) config file path\n",
    "yaml_file = f'{yolo_base}/data.yaml'\n",
    "\n",
    "#!rm -rf /home/tito/kaggle/dfl-bundesliga-data-shootout/work/yolov5\n",
    "os.makedirs(yolo_train_img_dir, exist_ok=True)\n",
    "os.makedirs(yolo_valid_img_dir, exist_ok=True)\n",
    "os.makedirs(yolo_train_label_dir, exist_ok=True)\n",
    "os.makedirs(yolo_valid_label_dir, exist_ok=True)"
   ]
  },
  {
   "cell_type": "code",
   "execution_count": 9,
   "metadata": {},
   "outputs": [
    {
     "name": "stdout",
     "output_type": "stream",
     "text": [
      "this_dir: C:/Users/Administrator/Desktop/SNMOT-060\n",
      "this_dir: C:/Users/Administrator/Desktop/SNMOT-116\n"
     ]
    }
   ],
   "source": [
    "# convert from x,y,w,h to yolo format\n",
    "def get_yolo_format_bbox(img_w, img_h, box):\n",
    "    w = box[2]\n",
    "    h = box[3]\n",
    "    xc = box[0] + int(np.round(w/2))\n",
    "    yc = box[1] + int(np.round(h/2))\n",
    "    box = [xc/img_w, yc/img_h, w/img_w, h/img_h]\n",
    "    box = [f\"{i:.4g}\" for i in box]\n",
    "    return box\n",
    "    \n",
    "# get SoccerNet label info \n",
    "def get_info(info):\n",
    "    results = []\n",
    "    for line in open(info):\n",
    "        m = re.match('trackletID_(\\d+)= (\\S*).*', line.replace(';', ' '))\n",
    "        if m:\n",
    "            if m.group(2) not in label_dict:\n",
    "                #print('bad label:', m.group(2))\n",
    "                continue \n",
    "            results.append([m.group(1), m.group(2)])\n",
    "    return pd.DataFrame(results, columns=['id','lbl']).set_index('id').to_dict()['lbl']\n",
    "\n",
    "# make image simlink and label files\n",
    "for split in split_dirs:\n",
    "    if split == 'train':\n",
    "        yolo_img_dir = yolo_train_img_dir\n",
    "        yolo_label_dir = yolo_train_label_dir\n",
    "    else:\n",
    "        yolo_img_dir = yolo_valid_img_dir\n",
    "        yolo_label_dir = yolo_valid_label_dir\n",
    "        \n",
    "    for this_dir in split_dirs[split]:\n",
    "        print('this_dir:',this_dir)\n",
    "        video = this_dir.split('/')[-1]\n",
    "        info = this_dir + '/gameinfo.ini'\n",
    "        det = this_dir + '/gt/gt.txt'\n",
    "        info_dict = get_info(info)\n",
    "        det_df = pd.read_csv(det, names=['frame','player','x','y','w','h','f1','f2','f3','f4'], usecols=['frame','player','x','y','w','h'])\n",
    "        det_df['label'] = det_df.player.astype(str).map(info_dict)\n",
    "        det_df['label_id'] = det_df['label'].map(label_dict)\n",
    "        # check\n",
    "        ng_list = list(det_df[det_df.label_id.isnull()].label.unique())\n",
    "        if len(ng_list)>0:\n",
    "            #print('ng_list:',ng_list, det_df.dropna().shape, det_df.shape)\n",
    "            det_df = det_df.dropna()\n",
    "        for grp, grp_df in det_df.groupby('frame'):\n",
    "            frame = f'{grp:06}'\n",
    "            img_file = f'{this_dir}/img1/{frame}.jpg'\n",
    "            dst_file = f'{yolo_img_dir}/{video}_{frame}.jpg'\n",
    "            if not os.path.exists(dst_file):\n",
    "                os.symlink(img_file, dst_file)\n",
    "                #print(img_file)\n",
    "            img = cv2.imread(dst_file)\n",
    "            height, width, _ = img.shape \n",
    "            bboxes = []\n",
    "            for arr in grp_df[['x', 'y', 'w', 'h', 'label_id']].values:\n",
    "                box = get_yolo_format_bbox(width, height, arr[:4])\n",
    "                bboxes.append([arr[4]]+box)\n",
    "            file_name = f'{yolo_label_dir}/{video}_{frame}.txt'\n",
    "            with open(file_name, 'w') as f:\n",
    "                for i, bbox in enumerate(bboxes):\n",
    "                    bbox = [str(i) for i in bbox]\n",
    "                    str_bbox = ' '.join(bbox)\n",
    "                    f.write(str_bbox)\n",
    "                    f.write('\\n')"
   ]
  },
  {
   "cell_type": "code",
   "execution_count": null,
   "metadata": {},
   "outputs": [],
   "source": []
  },
  {
   "cell_type": "code",
   "execution_count": null,
   "metadata": {},
   "outputs": [],
   "source": []
  },
  {
   "cell_type": "code",
   "execution_count": null,
   "metadata": {},
   "outputs": [],
   "source": []
  },
  {
   "cell_type": "code",
   "execution_count": null,
   "metadata": {},
   "outputs": [],
   "source": []
  },
  {
   "cell_type": "code",
   "execution_count": 10,
   "metadata": {},
   "outputs": [],
   "source": [
    "# Dump config file\n",
    "data_yaml = dict(\n",
    "    train = yolo_train_img_dir,\n",
    "    val = yolo_valid_img_dir,\n",
    "    nc = 4,\n",
    "    names = labels\n",
    ")\n",
    "\n",
    "with open(yaml_file, 'w') as outfile:\n",
    "    yaml.dump(data_yaml, outfile, default_flow_style=True)"
   ]
  },
  {
   "cell_type": "code",
   "execution_count": 21,
   "metadata": {},
   "outputs": [],
   "source": [
    "# train!\n",
    "weight_file = 'C:/Users/Administrator/Desktop/SoccerNet/yolov7/yolov7-w6_training.pt'\n",
    "!cd $yolo_base && python train.py \\\n",
    "    --workers 2 \\\n",
    "    --batch-size 4 \\\n",
    "    --data data.yaml \\\n",
    "    --img 1280 \\\n",
    "    --epochs 10 \\\n",
    "    --cfg cfg/training/yolov7-w6.yaml \\\n",
    "    --weights $weight_file \\\n",
    "    --name yolov7-w6-custom \\\n",
    "    --hyp data/hyp.scratch.custom.yaml"
   ]
  },
  {
   "cell_type": "code",
   "execution_count": 22,
   "metadata": {
    "scrolled": true
   },
   "outputs": [
    {
     "name": "stdout",
     "output_type": "stream",
     "text": [
      "Namespace(weights=['C:/Users/Administrator/Desktop/SoccerNet/yolov7/yolov7-w6_training.pt'], source='test_imgs', img_size=1280, conf_thres=0.25, iou_thres=0.45, device='', view_img=False, save_txt=False, save_conf=False, nosave=False, classes=None, agnostic_nms=False, augment=False, update=False, project='dfl', name='exp', exist_ok=False, no_trace=False)\n",
      "Fusing layers... \n",
      "IAuxDetect.fuse\n",
      " Convert model to Traced-model... \n",
      " traced_script_module saved! \n",
      " model is traced! \n",
      "\n",
      "16 persons, Done. (1896.2ms) Inference, (18.0ms) NMS\n",
      " The image with the result is saved in: dfl\\exp\\000001.jpg\n",
      "16 persons, Done. (2017.8ms) Inference, (15.6ms) NMS\n",
      " The image with the result is saved in: dfl\\exp\\000002.jpg\n",
      "17 persons, Done. (2017.6ms) Inference, (0.0ms) NMS\n",
      " The image with the result is saved in: dfl\\exp\\000003.jpg\n",
      "17 persons, Done. (1907.1ms) Inference, (3.0ms) NMS\n",
      " The image with the result is saved in: dfl\\exp\\000004.jpg\n",
      "17 persons, Done. (1840.1ms) Inference, (0.0ms) NMS\n",
      " The image with the result is saved in: dfl\\exp\\000005.jpg\n",
      "17 persons, Done. (1942.9ms) Inference, (0.0ms) NMS\n",
      " The image with the result is saved in: dfl\\exp\\000006.jpg\n",
      "17 persons, Done. (2179.5ms) Inference, (0.0ms) NMS\n",
      " The image with the result is saved in: dfl\\exp\\000007.jpg\n",
      "17 persons, Done. (2320.9ms) Inference, (0.0ms) NMS\n",
      " The image with the result is saved in: dfl\\exp\\000008.jpg\n",
      "17 persons, Done. (2478.4ms) Inference, (0.0ms) NMS\n",
      " The image with the result is saved in: dfl\\exp\\000009.jpg\n",
      "17 persons, Done. (2378.4ms) Inference, (15.6ms) NMS\n",
      " The image with the result is saved in: dfl\\exp\\000010.jpg\n",
      "Results saved to dfl\\exp\n",
      "10 labels saved to dfl\\exp\\labels\n",
      "Done. (22.059s)\n"
     ]
    },
    {
     "name": "stderr",
     "output_type": "stream",
     "text": [
      "YOLOR  2022-11-14 torch 1.11.0+cpu CPU\n",
      "\n",
      "Model Summary: 370 layers, 82277300 parameters, 0 gradients\n",
      "C:\\ProgramData\\Anaconda3\\lib\\site-packages\\torch\\functional.py:568: UserWarning: torch.meshgrid: in an upcoming release, it will be required to pass the indexing argument. (Triggered internally at  C:\\actions-runner\\_work\\pytorch\\pytorch\\builder\\windows\\pytorch\\aten\\src\\ATen\\native\\TensorShape.cpp:2228.)\n",
      "  return _VF.meshgrid(tensors, **kwargs)  # type: ignore[attr-defined]\n"
     ]
    }
   ],
   "source": [
    "# predict!\n",
    "check_images = f'test_imgs'\n",
    "#weight_file = 'yolov7-w6_training.pt'\n",
    "# weight_file = 'yolov7.pt'\n",
    "!cd $yolo_base && python detect.py \\\n",
    "    --weights $weight_file \\\n",
    "    --source  $check_images \\\n",
    "    --img-size 1280 \\\n",
    "    --project dfl"
   ]
  },
  {
   "cell_type": "code",
   "execution_count": null,
   "metadata": {},
   "outputs": [],
   "source": [
    "# Check some results. \n",
    "display(Image(f'{yolo_base}/dfl/exp9/000200.jpg'))\n",
    "display(Image(f'{yolo_base}/dfl/exp9/000400.jpg'))\n",
    "display(Image(f'{yolo_base}/dfl/exp9/000600.jpg'))"
   ]
  },
  {
   "cell_type": "code",
   "execution_count": null,
   "metadata": {},
   "outputs": [],
   "source": []
  }
 ],
 "metadata": {
  "kernelspec": {
   "display_name": "Python 3 (ipykernel)",
   "language": "python",
   "name": "python3"
  },
  "language_info": {
   "codemirror_mode": {
    "name": "ipython",
    "version": 3
   },
   "file_extension": ".py",
   "mimetype": "text/x-python",
   "name": "python",
   "nbconvert_exporter": "python",
   "pygments_lexer": "ipython3",
   "version": "3.9.7"
  }
 },
 "nbformat": 4,
 "nbformat_minor": 1
}
